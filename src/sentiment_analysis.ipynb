{
 "cells": [
  {
   "cell_type": "code",
   "execution_count": 0,
   "metadata": {
    "application/vnd.databricks.v1+cell": {
     "cellMetadata": {
      "byteLimit": 2048000,
      "rowLimit": 10000
     },
     "inputWidgets": {},
     "nuid": "f5393c87-3c6c-49c7-b54b-94c88a4195f4",
     "showTitle": false,
     "tableResultSettingsMap": {},
     "title": ""
    }
   },
   "outputs": [],
   "source": [
    "from pyspark.sql import SparkSession\n",
    "from pyspark.sql.functions import input_file_name, regexp_extract\n",
    "from transformers import pipeline\n",
    "from textblob import TextBlob\n",
    "from pyspark.sql.functions import udf\n",
    "from pyspark.sql.types import IntegerType, FloatType, StringType"
   ]
  },
  {
   "cell_type": "code",
   "execution_count": 0,
   "metadata": {
    "application/vnd.databricks.v1+cell": {
     "cellMetadata": {
      "byteLimit": 2048000,
      "rowLimit": 10000
     },
     "inputWidgets": {},
     "nuid": "ae33a06a-01be-4fd1-bbfa-b70fcec060bd",
     "showTitle": false,
     "tableResultSettingsMap": {},
     "title": ""
    }
   },
   "outputs": [],
   "source": [
    "spark = SparkSession.builder.appName(\"SocialMediaSentimentAnalysis\").getOrCreate()"
   ]
  },
  {
   "cell_type": "code",
   "execution_count": 0,
   "metadata": {
    "application/vnd.databricks.v1+cell": {
     "cellMetadata": {
      "byteLimit": 2048000,
      "rowLimit": 10000
     },
     "inputWidgets": {},
     "nuid": "74f0bac4-e04e-4d2d-96e9-0196ea89401d",
     "showTitle": false,
     "tableResultSettingsMap": {},
     "title": ""
    }
   },
   "outputs": [],
   "source": [
    "storage_account_name = \"socialtrendstorage\"\n",
    "container_name = \"social-data-trends\""
   ]
  },
  {
   "cell_type": "code",
   "execution_count": 0,
   "metadata": {
    "application/vnd.databricks.v1+cell": {
     "cellMetadata": {
      "byteLimit": 2048000,
      "rowLimit": 10000
     },
     "inputWidgets": {},
     "nuid": "bf992d68-e83c-46fa-986a-612cef0e9232",
     "showTitle": false,
     "tableResultSettingsMap": {},
     "title": ""
    }
   },
   "outputs": [],
   "source": [
    "storage_access_key = dbutils.secrets.get(scope=\"socialtrend-secrets\", key=\"storage-access-key\")"
   ]
  },
  {
   "cell_type": "code",
   "execution_count": 0,
   "metadata": {
    "application/vnd.databricks.v1+cell": {
     "cellMetadata": {
      "byteLimit": 2048000,
      "rowLimit": 10000
     },
     "inputWidgets": {},
     "nuid": "e2dda9ae-5afa-4ed2-87ca-ac461c7822fe",
     "showTitle": false,
     "tableResultSettingsMap": {},
     "title": ""
    }
   },
   "outputs": [],
   "source": [
    "twitter_path = f\"/mnt/{container_name}/twitter/twitter_data_*.json\"\n",
    "reddit_path = f\"/mnt/{container_name}/reddit/reddit_data_*.json\""
   ]
  },
  {
   "cell_type": "code",
   "execution_count": 0,
   "metadata": {
    "application/vnd.databricks.v1+cell": {
     "cellMetadata": {
      "byteLimit": 2048000,
      "rowLimit": 10000
     },
     "inputWidgets": {},
     "nuid": "878c78a0-f1d7-4804-9126-a11fd51352d9",
     "showTitle": false,
     "tableResultSettingsMap": {},
     "title": ""
    }
   },
   "outputs": [],
   "source": [
    "# Load Data with Filename Extraction\n",
    "df_twitter = spark.read.option(\"multiline\", \"true\").json(twitter_path).withColumn(\"filename\", input_file_name())\n",
    "df_reddit = spark.read.option(\"multiline\", \"true\").json(reddit_path).withColumn(\"filename\", input_file_name())"
   ]
  },
  {
   "cell_type": "code",
   "execution_count": 0,
   "metadata": {
    "application/vnd.databricks.v1+cell": {
     "cellMetadata": {
      "byteLimit": 2048000,
      "rowLimit": 10000
     },
     "inputWidgets": {},
     "nuid": "6580b044-a815-4ce2-8ae0-b6d2118ddc9b",
     "showTitle": false,
     "tableResultSettingsMap": {},
     "title": ""
    }
   },
   "outputs": [],
   "source": [
    "timestamp_pattern = r\"(\\d{4}-\\d{2}-\\d{2}_\\d{2}-\\d{2})\"\n",
    "df_twitter = df_twitter.withColumn(\"creation_time\", regexp_extract(\"filename\", timestamp_pattern, 1))\n",
    "df_reddit = df_reddit.withColumn(\"creation_time\", regexp_extract(\"filename\", timestamp_pattern, 1))"
   ]
  },
  {
   "cell_type": "code",
   "execution_count": 0,
   "metadata": {
    "application/vnd.databricks.v1+cell": {
     "cellMetadata": {
      "byteLimit": 2048000,
      "rowLimit": 10000
     },
     "inputWidgets": {},
     "nuid": "15248596-134e-488d-ab4e-6a3733c2a9c8",
     "showTitle": false,
     "tableResultSettingsMap": {},
     "title": ""
    }
   },
   "outputs": [],
   "source": [
    "df_twitter = df_twitter.drop(\"filename\")\n",
    "df_reddit = df_reddit.drop(\"filename\")"
   ]
  },
  {
   "cell_type": "code",
   "execution_count": 0,
   "metadata": {
    "application/vnd.databricks.v1+cell": {
     "cellMetadata": {
      "byteLimit": 2048000,
      "rowLimit": 10000
     },
     "inputWidgets": {},
     "nuid": "4ddb81fc-af5c-44a4-b6ae-b85ced914877",
     "showTitle": false,
     "tableResultSettingsMap": {},
     "title": ""
    }
   },
   "outputs": [],
   "source": [
    "latest_twitter_timestamp = (\n",
    "    df_twitter.select(\"creation_time\").distinct().orderBy(\"creation_time\", ascending=False).first()[\"creation_time\"]\n",
    ")\n",
    "latest_reddit_timestamp = (\n",
    "    df_reddit.select(\"creation_time\").distinct().orderBy(\"creation_time\", ascending=False).first()[\"creation_time\"]\n",
    ")"
   ]
  },
  {
   "cell_type": "code",
   "execution_count": 0,
   "metadata": {
    "application/vnd.databricks.v1+cell": {
     "cellMetadata": {
      "byteLimit": 2048000,
      "rowLimit": 10000
     },
     "inputWidgets": {},
     "nuid": "b5f8cc3f-b6be-470d-8091-0af49b76c632",
     "showTitle": false,
     "tableResultSettingsMap": {},
     "title": ""
    }
   },
   "outputs": [],
   "source": [
    "df_twitter = df_twitter.filter(df_twitter[\"creation_time\"] == latest_twitter_timestamp)\n",
    "df_reddit = df_reddit.filter(df_reddit[\"creation_time\"] == latest_reddit_timestamp)"
   ]
  },
  {
   "cell_type": "code",
   "execution_count": 0,
   "metadata": {
    "application/vnd.databricks.v1+cell": {
     "cellMetadata": {
      "byteLimit": 2048000,
      "rowLimit": 10000
     },
     "inputWidgets": {},
     "nuid": "bd5e4684-dbf6-4f58-8242-1258a21ff0f6",
     "showTitle": false,
     "tableResultSettingsMap": {},
     "title": ""
    }
   },
   "outputs": [],
   "source": [
    "sentiment_pipeline = pipeline(\"sentiment-analysis\", model=\"nlptown/bert-base-multilingual-uncased-sentiment\")"
   ]
  },
  {
   "cell_type": "code",
   "execution_count": 0,
   "metadata": {
    "application/vnd.databricks.v1+cell": {
     "cellMetadata": {
      "byteLimit": 2048000,
      "rowLimit": 10000
     },
     "inputWidgets": {},
     "nuid": "bf60306e-f3b1-4746-a92d-7dac59f59f32",
     "showTitle": false,
     "tableResultSettingsMap": {},
     "title": ""
    }
   },
   "outputs": [],
   "source": [
    "def analyze_sentiment(text):\n",
    "    try:\n",
    "        result = sentiment_pipeline(text[:512])[0]  # Limit input size\n",
    "        sentiment_score = int(result[\"label\"].split()[0])  # Convert '5 stars' to integer\n",
    "        return sentiment_score\n",
    "    except:\n",
    "        return 3  # Default sentiment 'Neutral'"
   ]
  },
  {
   "cell_type": "code",
   "execution_count": 0,
   "metadata": {
    "application/vnd.databricks.v1+cell": {
     "cellMetadata": {
      "byteLimit": 2048000,
      "rowLimit": 10000
     },
     "inputWidgets": {},
     "nuid": "0d0cdaff-df94-424b-ba8e-9a9b1466ca41",
     "showTitle": false,
     "tableResultSettingsMap": {},
     "title": ""
    }
   },
   "outputs": [],
   "source": [
    "sentiment_udf = udf(analyze_sentiment, IntegerType())\n",
    "polarity_udf = udf(lambda text: TextBlob(text).sentiment.polarity, FloatType())\n",
    "subjectivity_udf = udf(lambda text: TextBlob(text).sentiment.subjectivity, FloatType())"
   ]
  },
  {
   "cell_type": "code",
   "execution_count": 0,
   "metadata": {
    "application/vnd.databricks.v1+cell": {
     "cellMetadata": {
      "byteLimit": 2048000,
      "rowLimit": 10000
     },
     "inputWidgets": {},
     "nuid": "2f556789-3bac-47c3-b507-494210cbd068",
     "showTitle": false,
     "tableResultSettingsMap": {},
     "title": ""
    }
   },
   "outputs": [],
   "source": [
    "df_twitter = df_twitter.withColumn(\"sentiment_score\", sentiment_udf(df_twitter[\"text\"]))\n",
    "df_twitter = df_twitter.withColumn(\"polarity\", polarity_udf(df_twitter[\"text\"]))\n",
    "df_twitter = df_twitter.withColumn(\"subjectivity\", subjectivity_udf(df_twitter[\"text\"]))"
   ]
  },
  {
   "cell_type": "code",
   "execution_count": 0,
   "metadata": {
    "application/vnd.databricks.v1+cell": {
     "cellMetadata": {
      "byteLimit": 2048000,
      "rowLimit": 10000
     },
     "inputWidgets": {},
     "nuid": "584fd26d-e1c5-4f83-aed0-1cb03072e785",
     "showTitle": false,
     "tableResultSettingsMap": {},
     "title": ""
    }
   },
   "outputs": [],
   "source": [
    "df_reddit = df_reddit.withColumn(\"sentiment_score\", sentiment_udf(df_reddit[\"text\"]))\n",
    "df_reddit = df_reddit.withColumn(\"polarity\", polarity_udf(df_reddit[\"text\"]))\n",
    "df_reddit = df_reddit.withColumn(\"subjectivity\", subjectivity_udf(df_reddit[\"text\"]))"
   ]
  },
  {
   "cell_type": "code",
   "execution_count": 0,
   "metadata": {
    "application/vnd.databricks.v1+cell": {
     "cellMetadata": {
      "byteLimit": 2048000,
      "rowLimit": 10000
     },
     "inputWidgets": {},
     "nuid": "41f04f3f-22f0-43c8-a193-a4bc054a63b6",
     "showTitle": false,
     "tableResultSettingsMap": {},
     "title": ""
    }
   },
   "outputs": [],
   "source": [
    "df_twitter = df_twitter.dropDuplicates([\"creation_time\", \"text\"])\n",
    "df_reddit = df_reddit.dropDuplicates([\"creation_time\", \"text\"])"
   ]
  },
  {
   "cell_type": "code",
   "execution_count": 0,
   "metadata": {
    "application/vnd.databricks.v1+cell": {
     "cellMetadata": {
      "byteLimit": 2048000,
      "rowLimit": 10000
     },
     "inputWidgets": {},
     "nuid": "46e25dba-cdb6-4063-8e9d-efa62ae547d2",
     "showTitle": false,
     "tableResultSettingsMap": {},
     "title": ""
    }
   },
   "outputs": [],
   "source": [
    "output_path_twitter = f\"/mnt/{container_name}/processed/twitter_sentiment\"\n",
    "output_path_reddit = f\"/mnt/{container_name}/processed/reddit_sentiment\"\n",
    "\n",
    "df_twitter.write.mode(\"append\").partitionBy(\"creation_time\").parquet(output_path_twitter)\n",
    "df_reddit.write.mode(\"append\").partitionBy(\"creation_time\").parquet(output_path_reddit)\n",
    "\n",
    "print(\"✅ Sentiment data saved in partitioned parquet format!\")"
   ]
  },
  {
   "cell_type": "code",
   "execution_count": 0,
   "metadata": {
    "application/vnd.databricks.v1+cell": {
     "cellMetadata": {
      "byteLimit": 2048000,
      "rowLimit": 10000
     },
     "inputWidgets": {},
     "nuid": "c8bc6012-350a-486d-b7ee-2b445aece219",
     "showTitle": false,
     "tableResultSettingsMap": {},
     "title": ""
    }
   },
   "outputs": [],
   "source": [
    "df_twitter.show(5)"
   ]
  },
  {
   "cell_type": "code",
   "execution_count": 0,
   "metadata": {
    "application/vnd.databricks.v1+cell": {
     "cellMetadata": {
      "byteLimit": 2048000,
      "rowLimit": 10000
     },
     "inputWidgets": {},
     "nuid": "c8a8bb26-fd4f-491d-9c2e-8cc2bf63a42e",
     "showTitle": false,
     "tableResultSettingsMap": {},
     "title": ""
    }
   },
   "outputs": [],
   "source": [
    "df_reddit.show(5)"
   ]
  },
  {
   "cell_type": "code",
   "execution_count": 0,
   "metadata": {
    "application/vnd.databricks.v1+cell": {
     "cellMetadata": {
      "byteLimit": 2048000,
      "rowLimit": 10000
     },
     "inputWidgets": {},
     "nuid": "974ad8b0-6c6b-4ce1-b89c-51dbc7609232",
     "showTitle": false,
     "tableResultSettingsMap": {},
     "title": ""
    }
   },
   "outputs": [],
   "source": [
    "(df_twitter.count(), len(df_twitter.columns))"
   ]
  },
  {
   "cell_type": "code",
   "execution_count": 0,
   "metadata": {
    "application/vnd.databricks.v1+cell": {
     "cellMetadata": {
      "byteLimit": 2048000,
      "rowLimit": 10000
     },
     "inputWidgets": {},
     "nuid": "71b54113-bc7a-4190-a128-a122301a2953",
     "showTitle": false,
     "tableResultSettingsMap": {},
     "title": ""
    }
   },
   "outputs": [],
   "source": [
    "(df_reddit.count(), len(df_reddit.columns))"
   ]
  }
 ],
 "metadata": {
  "application/vnd.databricks.v1+notebook": {
   "computePreferences": null,
   "dashboards": [],
   "environmentMetadata": {
    "base_environment": "",
    "environment_version": "2"
   },
   "language": "python",
   "notebookMetadata": {
    "pythonIndentUnit": 4
   },
   "notebookName": "sentiment_analysis",
   "widgets": {}
  },
  "language_info": {
   "name": "python"
  }
 },
 "nbformat": 4,
 "nbformat_minor": 0
}
